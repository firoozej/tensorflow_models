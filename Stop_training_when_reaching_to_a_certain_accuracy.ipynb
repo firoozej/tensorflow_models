{
  "nbformat": 4,
  "nbformat_minor": 0,
  "metadata": {
    "colab": {
      "provenance": [],
      "authorship_tag": "ABX9TyPlM6kxrcHOkBpBuKu1A1Rz",
      "include_colab_link": true
    },
    "kernelspec": {
      "name": "python3",
      "display_name": "Python 3"
    },
    "language_info": {
      "name": "python"
    }
  },
  "cells": [
    {
      "cell_type": "markdown",
      "metadata": {
        "id": "view-in-github",
        "colab_type": "text"
      },
      "source": [
        "<a href=\"https://colab.research.google.com/github/firoozej/tensorflow_models/blob/main/Stop_training_when_reaching_to_a_certain_accuracy.ipynb\" target=\"_parent\"><img src=\"https://colab.research.google.com/assets/colab-badge.svg\" alt=\"Open In Colab\"/></a>"
      ]
    },
    {
      "cell_type": "code",
      "execution_count": 12,
      "metadata": {
        "colab": {
          "base_uri": "https://localhost:8080/"
        },
        "id": "C8m8nMiCmHqk",
        "outputId": "0b3554f6-e784-4c66-bbda-e5f54a34f064"
      },
      "outputs": [
        {
          "output_type": "stream",
          "name": "stdout",
          "text": [
            "Epoch 1/5\n",
            "1868/1875 [============================>.] - ETA: 0s - loss: 0.4990 - accuracy: 0.8256reached 60% accuracy\n",
            "1875/1875 [==============================] - 7s 4ms/step - loss: 0.4987 - accuracy: 0.8257\n"
          ]
        },
        {
          "output_type": "execute_result",
          "data": {
            "text/plain": [
              "<keras.callbacks.History at 0x7f2be42cebb0>"
            ]
          },
          "metadata": {},
          "execution_count": 12
        }
      ],
      "source": [
        "import tensorflow as tf\n",
        "\n",
        "class StopTraining(tf.keras.callbacks.Callback):\n",
        "  def on_epoch_end(self, epoch, logs=None):\n",
        "    if(logs.get('accuracy') >= 0.6):\n",
        "      print('\\nreached 60% accuracy')\n",
        "      self.model.stop_training = True\n",
        "\n",
        "fmnist = tf.keras.datasets.fashion_mnist\n",
        "\n",
        "((training_images, training_labels), (test_images, test_labels)) = fmnist.load_data()\n",
        "\n",
        "training_images = training_images / 255.0\n",
        "test_images = test_images / 255.0\n",
        "\n",
        "model = tf.keras.Sequential([\n",
        "    tf.keras.layers.Flatten(), \n",
        "    tf.keras.layers.Dense(128, activation = tf.nn.relu), \n",
        "    tf.keras.layers.Dense(10, activation = tf.nn.softmax)\n",
        "])\n",
        "\n",
        "model.compile(optimizer=tf.optimizers.Adam(), loss='sparse_categorical_crossentropy', metrics=['accuracy'])\n",
        "\n",
        "model.fit(training_images, training_labels, epochs = 5, callbacks=[StopTraining()])\n",
        "\n"
      ]
    }
  ]
}